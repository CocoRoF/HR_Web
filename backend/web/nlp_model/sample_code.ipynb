{
 "cells": [
  {
   "cell_type": "code",
   "execution_count": 1,
   "metadata": {},
   "outputs": [],
   "source": [
    "# from utils.util_module import review_analyzer\n",
    "from utils.util_prompt import response_prompt_selector\n",
    "from utils.util_module import gpt_norm_responder"
   ]
  },
  {
   "cell_type": "code",
   "execution_count": 2,
   "metadata": {},
   "outputs": [
    {
     "data": {
      "text/plain": [
       "'물론입니다. 리뷰에 대한 답장은 고객의 피드백을 듣고, 문제를 해결하거나 감사의 마음을 표현하는 좋은 방법입니다. 리뷰의 내용에 따라 적절하고 예의 바른 답변을 제공하는 것이 중요합니다. 리뷰가 긍정적이든 부정적이든, 모든 리뷰에는 고객이 자신의 경험을 공유했다는 점을 인정하고 존중하는 태도로 접근해야 합니다.\\n\\n긍정적인 리뷰에는 감사의 인사를 전하고, 부정적인 리뷰에는 문제를 인지하고 개선을 위해 노력하겠다는 의지를 보여주는 것이 좋습니다. 또한, 필요한 경우 고객에게 직접 연락을 취해 추가적인 정보를 얻거나 문제를 해결할 수 있도록 제안할 수도 있습니다.\\n\\n리뷰에 답변할 때는 다음과 같은 점을 고려하세요:\\n\\n1. 존중과 예의를 유지하세요.\\n2. 감사의 마음을 표현하세요.\\n3. 문제가 있다면 사과하고 해결책을 제시하세요.\\n4. 개인화된 답변을 제공하여 고객이 소중하다는 느낌을 받도록 하세요.\\n5. 공개적인 포럼에서는 개인 정보를 공유하지 않도록 주의하세요.\\n\\n리뷰에 대한 답변은 비즈니스의 이미지를 관리하고 고객과의 관계를 강화하는 데 중요한 역할을 합니다.'"
      ]
     },
     "execution_count": 2,
     "metadata": {},
     "output_type": "execute_result"
    }
   ],
   "source": [
    "gpt_norm_responder('이런 리뷰도 답장이 가능한가?')"
   ]
  },
  {
   "cell_type": "code",
   "execution_count": 2,
   "metadata": {},
   "outputs": [],
   "source": [
    "result = gpt_norm_responder('이런 리뷰도 답장이 가능한가?', model_name='gpt-3.5-turbo-1106')"
   ]
  },
  {
   "cell_type": "code",
   "execution_count": 4,
   "metadata": {},
   "outputs": [
    {
     "data": {
      "text/plain": [
       "str"
      ]
     },
     "execution_count": 4,
     "metadata": {},
     "output_type": "execute_result"
    }
   ],
   "source": [
    "type(result)"
   ]
  },
  {
   "cell_type": "code",
   "execution_count": 2,
   "metadata": {},
   "outputs": [
    {
     "data": {
      "text/plain": [
       "'네, 이런 리뷰에도 답장이 가능합니다. 어떤 내용에 대해 답장을 원하시나요? 저희는 가능한 한 도움을 드리기 위해 최선을 다하겠습니다.'"
      ]
     },
     "execution_count": 2,
     "metadata": {},
     "output_type": "execute_result"
    }
   ],
   "source": [
    "gpt_norm_responder('이런 리뷰도 답장이 가능한가?', model_name='gpt-3.5-turbo')"
   ]
  },
  {
   "cell_type": "code",
   "execution_count": 3,
   "metadata": {},
   "outputs": [
    {
     "data": {
      "text/plain": [
       "'네, 가능합니다. 그러나 리뷰의 내용이 구체적이지 않아서 어떤 부분에 대해 의견을 주셨는지 파악하기 어렵습니다. 좀 더 자세한 피드백을 주시면 감사하겠습니다.'"
      ]
     },
     "execution_count": 3,
     "metadata": {},
     "output_type": "execute_result"
    }
   ],
   "source": [
    "gpt_norm_responder('이런 리뷰도 답장이 가능한가?', model_name='gpt-4')"
   ]
  },
  {
   "cell_type": "code",
   "execution_count": 4,
   "metadata": {},
   "outputs": [
    {
     "data": {
      "text/plain": [
       "'물론입니다. 리뷰에 대한 답장은 고객의 피드백을 듣고, 문제를 해결하거나 감사의 마음을 표현하는 좋은 방법입니다. 리뷰의 내용에 따라 적절하고 예의 바른 답변을 제공하는 것이 중요합니다. 리뷰가 긍정적이든 부정적이든, 모든 리뷰에는 고객이 소중하다는 것을 보여주는 답변을 작성하는 것이 좋습니다.\\n\\n긍정적인 리뷰에는 감사의 인사를 전하고, 부정적인 리뷰에는 사과와 함께 문제를 해결하기 위한 의지를 보여주는 것이 좋습니다. 또한, 부정적인 리뷰는 개선의 기회로 삼아 서비스나 제품을 개선할 수 있는 중요한 피드백으로 활용할 수 있습니다.\\n\\n리뷰에 답변할 때는 다음과 같은 점을 고려하세요:\\n\\n1. 존중과 예의를 갖추어 답변하세요.\\n2. 개인적인 감정을 배제하고 객관적으로 대응하세요.\\n3. 문제가 있다면 해결책을 제시하고, 필요하다면 추가적인 대화를 위해 연락처를 남기세요.\\n4. 긍정적인 리뷰에는 감사의 마음을, 부정적인 리뷰에는 사과와 함께 개선 의지를 표현하세요.\\n5. 가능한 빠르게 답변하는 것이 좋습니다.\\n\\n리뷰에 대한 구체적인 내용이나 상황에 따라 답변의 내용과 톤이 달라질 수 있습니다.'"
      ]
     },
     "execution_count": 4,
     "metadata": {},
     "output_type": "execute_result"
    }
   ],
   "source": [
    "gpt_norm_responder('이런 리뷰도 답장이 가능한가?')"
   ]
  },
  {
   "cell_type": "code",
   "execution_count": null,
   "metadata": {},
   "outputs": [],
   "source": []
  }
 ],
 "metadata": {
  "kernelspec": {
   "display_name": "Python 3",
   "language": "python",
   "name": "python3"
  },
  "language_info": {
   "codemirror_mode": {
    "name": "ipython",
    "version": 3
   },
   "file_extension": ".py",
   "mimetype": "text/x-python",
   "name": "python",
   "nbconvert_exporter": "python",
   "pygments_lexer": "ipython3",
   "version": "3.9.13"
  },
  "orig_nbformat": 4
 },
 "nbformat": 4,
 "nbformat_minor": 2
}
